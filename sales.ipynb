{
 "cells": [
  {
   "cell_type": "code",
   "execution_count": 4,
   "metadata": {},
   "outputs": [],
   "source": [
    "import json\n",
    "fd=open(\"products.json\",\"r\")\n",
    "r=fd.read()\n",
    "fd.close()\n",
    "product=json.loads(r)"
   ]
  },
  {
   "cell_type": "code",
   "execution_count": 5,
   "metadata": {},
   "outputs": [
    {
     "data": {
      "text/plain": [
       "{'1101': {'name': '5 Star',\n",
       "  'category': 'Chocklets ',\n",
       "  'price': 10,\n",
       "  'ExpDate': '12 Nov,2021',\n",
       "  'Quantity': 85},\n",
       " '1102': {'name': 'Lays',\n",
       "  'category': 'Snacks ',\n",
       "  'price': 10,\n",
       "  'ExpDate': '5 Oct,2021',\n",
       "  'Quantity': 54},\n",
       " '1103': {'name': 'Oreo',\n",
       "  'category': 'Biscuits',\n",
       "  'price': 25,\n",
       "  'ExpDate': '23 Dec,2021',\n",
       "  'Quantity': 36},\n",
       " '1104': {'name': 'Dairy Milk',\n",
       "  'category': 'Chocklets',\n",
       "  'price': 10,\n",
       "  'ExpDate': '7 Feb,2022',\n",
       "  'Quantity': 102},\n",
       " '1105': {'name': 'Snickers',\n",
       "  'category': 'Chocklets',\n",
       "  'price': 30,\n",
       "  'Expdate': '4 Jan,2022',\n",
       "  'Quantity': 35},\n",
       " '1106': {'name': 'Kit kat',\n",
       "  'category': 'Chocklets',\n",
       "  'price': 10,\n",
       "  'Expdate': '5 Feb, 2022',\n",
       "  'Quantity': 62},\n",
       " '1107': {'name': '7 up',\n",
       "  'category': 'Drinks',\n",
       "  'price': 41,\n",
       "  'Expdate': '16 Nov, 2021',\n",
       "  'Quantity': 28},\n",
       " '1108': {'name': 'Kurkure',\n",
       "  'category': 'Snacks',\n",
       "  'price': 10,\n",
       "  'Expdate': '5 Mar, 2022',\n",
       "  'Quantity': 56},\n",
       " '1109': {'name': 'Marie',\n",
       "  'category': 'Biscuits',\n",
       "  'price': 20,\n",
       "  'Expdate': '13 Dec, 2021',\n",
       "  'Quantity': 58},\n",
       " '1110': {'name': 'Pepsi',\n",
       "  'category': 'Drinks',\n",
       "  'price': 25,\n",
       "  'Expdate': '25 Feb, 2022',\n",
       "  'Quantity': 48},\n",
       " '1111': {'name': 'Coke',\n",
       "  'category': 'Drinks',\n",
       "  'price': 35,\n",
       "  'Expdate': '27 Jan,2022',\n",
       "  'Quantity': 42},\n",
       " '1112': {'name': '5 Star',\n",
       "  'category': 'Chocklets',\n",
       "  'price': 5,\n",
       "  'Expdate': '12 Nov, 2021',\n",
       "  'Quantity': 38},\n",
       " '1113': {'name': 'Bingo',\n",
       "  'category': 'Snacks',\n",
       "  'price': 5,\n",
       "  'Expdate': '17 Feb,2022',\n",
       "  'Quantity': 57},\n",
       " '1114': {'name': 'Lays',\n",
       "  'category': 'Snacks',\n",
       "  'price': 5,\n",
       "  'Expdate': '28 Dec, 2021',\n",
       "  'Quantity': 62},\n",
       " '1115': {'name': 'Parle',\n",
       "  'category': 'Biscuits',\n",
       "  'price': 30,\n",
       "  'Expdate': '17 Apr,2022',\n",
       "  'Quantity': 59},\n",
       " '1116': {'name': 'Thumbs up',\n",
       "  'category': 'Drinks',\n",
       "  'price': 42,\n",
       "  'Expdate': '3 Feb, 2022',\n",
       "  'Quantity': 35},\n",
       " '1117': {'name': 'Bourbon',\n",
       "  'category': 'Biscuits',\n",
       "  'price': 35,\n",
       "  'Expdate': '28 Dec, 2021',\n",
       "  'Quantity': 54},\n",
       " '1118': {'name': 'Dukes',\n",
       "  'category': 'Biscuits',\n",
       "  'price': 20,\n",
       "  'Expdate': '14 Nov,2021',\n",
       "  'Quantity': 25},\n",
       " '1119': {'name': 'Too yum',\n",
       "  'category': 'Snacks',\n",
       "  'price': 20,\n",
       "  'Expdate': '25 Jan,2022',\n",
       "  'Quantity': 20},\n",
       " '1120': {'name': 'Too yum',\n",
       "  'category': 'Snacks',\n",
       "  'price': 10,\n",
       "  'Expdate': '25 Jan,2022',\n",
       "  'Quantity': 36},\n",
       " '1121': {'name': 'Kurkure',\n",
       "  'category': 'Snacks',\n",
       "  'price': 10,\n",
       "  'Expdate': '24 Nov,2021',\n",
       "  'Quantity': 39},\n",
       " '1122': {'name': 'Oreo',\n",
       "  'category': 'Biscuits',\n",
       "  'price': 10,\n",
       "  'Expdate': '25 Jan,2022',\n",
       "  'Quantity': 52},\n",
       " '1123': {'name': 'Fenta',\n",
       "  'category': 'Drinks',\n",
       "  'price': 36,\n",
       "  'Expdate': '13 Nov,2021',\n",
       "  'Quantity': 37},\n",
       " '1124': {'name': 'Jim jam',\n",
       "  'category': 'Biscuits',\n",
       "  'price': 10,\n",
       "  'Expdate': '25 Feb,2022',\n",
       "  'Quantity': 34},\n",
       " '1125': {'name': 'Unibic',\n",
       "  'category': 'Biscuits',\n",
       "  'price': 25,\n",
       "  'Expdate': '2 Feb,2022',\n",
       "  'Quantity': 51},\n",
       " '1126': {'name': 'Good Day',\n",
       "  'category': 'Biscuits',\n",
       "  'price': 30,\n",
       "  'Expdate': '21 Apr,2022',\n",
       "  'Quantity': 68},\n",
       " '1127': {'name': 'Sprite',\n",
       "  'category': 'Drinks',\n",
       "  'price': 38,\n",
       "  'Expdate': '19 Feb,2022',\n",
       "  'Quantity': 53},\n",
       " '1128': {'name': 'Popcorn',\n",
       "  'category': 'Snacks',\n",
       "  'price': 25,\n",
       "  'Expdate': '21 May,2022',\n",
       "  'Quantity': 94},\n",
       " '1129': {'name': 'Diary milk',\n",
       "  'category': 'Chocklets',\n",
       "  'price': 60,\n",
       "  'Expdate': '16 Aug, 2022',\n",
       "  'Quantity': 105},\n",
       " '1130': {'name': 'Red bull',\n",
       "  'category': 'Drinks',\n",
       "  'price': 35,\n",
       "  'Expdate': '6 Jun, 2022',\n",
       "  'Quantity': 54}}"
      ]
     },
     "execution_count": 5,
     "metadata": {},
     "output_type": "execute_result"
    }
   ],
   "source": [
    "product"
   ]
  },
  {
   "cell_type": "markdown",
   "metadata": {},
   "source": [
    "# Purchase"
   ]
  },
  {
   "cell_type": "code",
   "execution_count": 30,
   "metadata": {},
   "outputs": [
    {
     "name": "stdout",
     "output_type": "stream",
     "text": [
      "Enter the product id:1109\n",
      "Enter the quantity:5\n",
      "______________________________________\n",
      "Product: Marie\n",
      "Price: 20\n",
      "Expiry Date: 13 Dec, 2021\n",
      "***************************************\n",
      "Billing Amount: 100\n",
      "***************************************\n"
     ]
    }
   ],
   "source": [
    "u_id= input(\"Enter the product id:\")\n",
    "qn=int(input(\"Enter the quantity:\"))\n",
    "print(\"______________________________________\")\n",
    "print(\"Product:\",product[u_id][\"name\"])\n",
    "print(\"Price:\",product[u_id][\"price\"])\n",
    "print(\"Expiry Date:\",product[u_id][\"Expdate\"])\n",
    "print(\"***************************************\")\n",
    "print(\"Billing Amount:\",int(product[u_id][\"price\"])*qn)\n",
    "print(\"***************************************\")\n",
    "product[u_id][\"Quantity\"]=product[u_id][\"Quantity\"]-qn\n",
    "js=json.dumps(product)\n",
    "fd=open(\"product.json\",\"w\")\n",
    "fd.write(js)\n",
    "fd.close()\n",
    "import time\n",
    "t=time.ctime()\n",
    "sales[t]={\"product\":u_id,\"quantity\":qn,\"Bill\":product[u_id][\"price\"]*qn}\n",
    "s=json.dumps(sales)\n",
    "sl=open(\"sales.json\",\"w\")\n",
    "sl.write(s)\n",
    "sl.close()"
   ]
  },
  {
   "cell_type": "code",
   "execution_count": 32,
   "metadata": {},
   "outputs": [
    {
     "data": {
      "text/plain": [
       "'{\"Mon Sep  6 08:22:38 2021\": {\"product\": \"1108\", \"quantity\": 2, \"Bill\": 20}, \"Mon Sep  6 08:25:40 2021\": {\"product\": \"1109\", \"quantity\": 2, \"Bill\": 40}, \"Mon Sep  6 08:29:49 2021\": {\"product\": \"1109\", \"quantity\": 5, \"Bill\": 100}}'"
      ]
     },
     "execution_count": 32,
     "metadata": {},
     "output_type": "execute_result"
    }
   ],
   "source": [
    "\n",
    "s\n"
   ]
  },
  {
   "cell_type": "code",
   "execution_count": 29,
   "metadata": {},
   "outputs": [
    {
     "data": {
      "text/plain": [
       "'{\"Mon Sep  6 08:22:38 2021\": {\"product\": \"1108\", \"quantity\": 2, \"Bill\": 20}, \"Mon Sep  6 08:25:40 2021\": {\"product\": \"1109\", \"quantity\": 2, \"Bill\": 40}}'"
      ]
     },
     "execution_count": 29,
     "metadata": {},
     "output_type": "execute_result"
    }
   ],
   "source": []
  },
  {
   "cell_type": "code",
   "execution_count": null,
   "metadata": {},
   "outputs": [],
   "source": []
  }
 ],
 "metadata": {
  "kernelspec": {
   "display_name": "Python 3",
   "language": "python",
   "name": "python3"
  },
  "language_info": {
   "codemirror_mode": {
    "name": "ipython",
    "version": 3
   },
   "file_extension": ".py",
   "mimetype": "text/x-python",
   "name": "python",
   "nbconvert_exporter": "python",
   "pygments_lexer": "ipython3",
   "version": "3.8.5"
  }
 },
 "nbformat": 4,
 "nbformat_minor": 4
}
