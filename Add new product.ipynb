{
 "cells": [
  {
   "cell_type": "code",
   "execution_count": 1,
   "metadata": {},
   "outputs": [],
   "source": [
    "products= {1101:{\"name\": \"5 Star\",\"category\":\"Chocklets \",\"price\": 10,\"ExpDate\": \"12 Nov,2021\",\"Quantity\":85},\n",
    "           1102:{\"name\": \"Lays\",\"category\":\"Snacks \",\"price\": 10,\"ExpDate\": \"5 Oct,2021\",\"Quantity\":54},\n",
    "           1103:{\"name\": \"Oreo\",\"category\":\"Biscuits\",\"price\": 25,\"ExpDate\": \"23 Dec,2021\",\"Quantity\":36},\n",
    "           1104:{\"name\": \"Dairy Milk\",\"category\":\"Chocklets\",\"price\": 10,\"ExpDate\": \"7 Feb,2022\",\"Quantity\":102}}"
   ]
  },
  {
   "cell_type": "code",
   "execution_count": 2,
   "metadata": {},
   "outputs": [
    {
     "data": {
      "text/plain": [
       "{1101: {'name': '5 Star',\n",
       "  'category': 'Chocklets ',\n",
       "  'price': 10,\n",
       "  'ExpDate': '12 Nov,2021',\n",
       "  'Quantity': 85},\n",
       " 1102: {'name': 'Lays',\n",
       "  'category': 'Snacks ',\n",
       "  'price': 10,\n",
       "  'ExpDate': '5 Oct,2021',\n",
       "  'Quantity': 54},\n",
       " 1103: {'name': 'Oreo',\n",
       "  'category': 'Biscuits',\n",
       "  'price': 25,\n",
       "  'ExpDate': '23 Dec,2021',\n",
       "  'Quantity': 36},\n",
       " 1104: {'name': 'Dairy Milk',\n",
       "  'category': 'Chocklets',\n",
       "  'price': 10,\n",
       "  'ExpDate': '7 Feb,2022',\n",
       "  'Quantity': 102}}"
      ]
     },
     "execution_count": 2,
     "metadata": {},
     "output_type": "execute_result"
    }
   ],
   "source": [
    "products"
   ]
  },
  {
   "cell_type": "code",
   "execution_count": 3,
   "metadata": {},
   "outputs": [],
   "source": [
    "import json "
   ]
  },
  {
   "cell_type": "code",
   "execution_count": 4,
   "metadata": {},
   "outputs": [],
   "source": [
    "js= json.dumps(products)"
   ]
  },
  {
   "cell_type": "code",
   "execution_count": 5,
   "metadata": {},
   "outputs": [
    {
     "data": {
      "text/plain": [
       "'{\"1101\": {\"name\": \"5 Star\", \"category\": \"Chocklets \", \"price\": 10, \"ExpDate\": \"12 Nov,2021\", \"Quantity\": 85}, \"1102\": {\"name\": \"Lays\", \"category\": \"Snacks \", \"price\": 10, \"ExpDate\": \"5 Oct,2021\", \"Quantity\": 54}, \"1103\": {\"name\": \"Oreo\", \"category\": \"Biscuits\", \"price\": 25, \"ExpDate\": \"23 Dec,2021\", \"Quantity\": 36}, \"1104\": {\"name\": \"Dairy Milk\", \"category\": \"Chocklets\", \"price\": 10, \"ExpDate\": \"7 Feb,2022\", \"Quantity\": 102}}'"
      ]
     },
     "execution_count": 5,
     "metadata": {},
     "output_type": "execute_result"
    }
   ],
   "source": [
    "js"
   ]
  },
  {
   "cell_type": "code",
   "execution_count": 6,
   "metadata": {},
   "outputs": [],
   "source": [
    "fd= open(\"products.json\",\"w\")\n",
    "fd.write(js)\n",
    "fd.close()"
   ]
  },
  {
   "cell_type": "code",
   "execution_count": 7,
   "metadata": {},
   "outputs": [],
   "source": [
    "fd=open(\"products.json\",\"r\")\n",
    "r=fd.read()\n",
    "fd.close()"
   ]
  },
  {
   "cell_type": "code",
   "execution_count": 8,
   "metadata": {},
   "outputs": [
    {
     "data": {
      "text/plain": [
       "'{\"1101\": {\"name\": \"5 Star\", \"category\": \"Chocklets \", \"price\": 10, \"ExpDate\": \"12 Nov,2021\", \"Quantity\": 85}, \"1102\": {\"name\": \"Lays\", \"category\": \"Snacks \", \"price\": 10, \"ExpDate\": \"5 Oct,2021\", \"Quantity\": 54}, \"1103\": {\"name\": \"Oreo\", \"category\": \"Biscuits\", \"price\": 25, \"ExpDate\": \"23 Dec,2021\", \"Quantity\": 36}, \"1104\": {\"name\": \"Dairy Milk\", \"category\": \"Chocklets\", \"price\": 10, \"ExpDate\": \"7 Feb,2022\", \"Quantity\": 102}}'"
      ]
     },
     "execution_count": 8,
     "metadata": {},
     "output_type": "execute_result"
    }
   ],
   "source": [
    "r"
   ]
  },
  {
   "cell_type": "code",
   "execution_count": 9,
   "metadata": {},
   "outputs": [],
   "source": [
    "products=json.loads(r)"
   ]
  },
  {
   "cell_type": "code",
   "execution_count": 10,
   "metadata": {},
   "outputs": [
    {
     "data": {
      "text/plain": [
       "{'1101': {'name': '5 Star',\n",
       "  'category': 'Chocklets ',\n",
       "  'price': 10,\n",
       "  'ExpDate': '12 Nov,2021',\n",
       "  'Quantity': 85},\n",
       " '1102': {'name': 'Lays',\n",
       "  'category': 'Snacks ',\n",
       "  'price': 10,\n",
       "  'ExpDate': '5 Oct,2021',\n",
       "  'Quantity': 54},\n",
       " '1103': {'name': 'Oreo',\n",
       "  'category': 'Biscuits',\n",
       "  'price': 25,\n",
       "  'ExpDate': '23 Dec,2021',\n",
       "  'Quantity': 36},\n",
       " '1104': {'name': 'Dairy Milk',\n",
       "  'category': 'Chocklets',\n",
       "  'price': 10,\n",
       "  'ExpDate': '7 Feb,2022',\n",
       "  'Quantity': 102}}"
      ]
     },
     "execution_count": 10,
     "metadata": {},
     "output_type": "execute_result"
    }
   ],
   "source": [
    "products"
   ]
  },
  {
   "cell_type": "markdown",
   "metadata": {},
   "source": [
    "## Add New Product in inventory"
   ]
  },
  {
   "cell_type": "code",
   "execution_count": 12,
   "metadata": {},
   "outputs": [
    {
     "name": "stdout",
     "output_type": "stream",
     "text": [
      "Enter Product id:1105\n",
      "Enter Product Name:Snickers\n",
      "Enter Product Category:Chocklets\n",
      "Enter Product Price:30\n",
      "Enter Product Expiry Date:4 Jan,2022\n",
      "Enter Product Quantity:35\n"
     ]
    }
   ],
   "source": [
    "u_id=input(\"Enter Product id:\")\n",
    "name=input(\"Enter Product Name:\")\n",
    "cat=input(\"Enter Product Category:\")\n",
    "pr=int(input(\"Enter Product Price:\"))\n",
    "ex=input(\"Enter Product Expiry Date:\")\n",
    "qn=int(input(\"Enter Product Quantity:\"))\n",
    "products[u_id]={\"name\":name,\"category\":cat,\"price\":pr,\"Expdate\":ex,\"Quantity\":qn}\n",
    "\n"
   ]
  },
  {
   "cell_type": "code",
   "execution_count": 13,
   "metadata": {},
   "outputs": [
    {
     "data": {
      "text/plain": [
       "{'1101': {'name': '5 Star',\n",
       "  'category': 'Chocklets ',\n",
       "  'price': 10,\n",
       "  'ExpDate': '12 Nov,2021',\n",
       "  'Quantity': 85},\n",
       " '1102': {'name': 'Lays',\n",
       "  'category': 'Snacks ',\n",
       "  'price': 10,\n",
       "  'ExpDate': '5 Oct,2021',\n",
       "  'Quantity': 54},\n",
       " '1103': {'name': 'Oreo',\n",
       "  'category': 'Biscuits',\n",
       "  'price': 25,\n",
       "  'ExpDate': '23 Dec,2021',\n",
       "  'Quantity': 36},\n",
       " '1104': {'name': 'Dairy Milk',\n",
       "  'category': 'Chocklets',\n",
       "  'price': 10,\n",
       "  'ExpDate': '7 Feb,2022',\n",
       "  'Quantity': 102},\n",
       " '1105': {'name': 'Snickers',\n",
       "  'category': 'Chocklets',\n",
       "  'price': 30,\n",
       "  'Expdate': '4 Jan,2022',\n",
       "  'Quantity': 35}}"
      ]
     },
     "execution_count": 13,
     "metadata": {},
     "output_type": "execute_result"
    }
   ],
   "source": [
    "products"
   ]
  },
  {
   "cell_type": "code",
   "execution_count": 14,
   "metadata": {},
   "outputs": [
    {
     "name": "stdout",
     "output_type": "stream",
     "text": [
      "Enter Product id:1106\n",
      "Enter Product Name:Kit kat\n",
      "Enter Product Category:Chocklets\n",
      "Enter Product Price:10\n",
      "Enter Product Expiry Date:5 Feb, 2022\n",
      "Enter Product Quantity:62\n",
      "Enter Product id:1107\n",
      "Enter Product Name:7 up\n",
      "Enter Product Category:Drinks\n",
      "Enter Product Price:41\n",
      "Enter Product Expiry Date:16 Nov, 2021\n",
      "Enter Product Quantity:28\n",
      "Enter Product id:1108\n",
      "Enter Product Name:Kurkure\n",
      "Enter Product Category:Snacks\n",
      "Enter Product Price:10\n",
      "Enter Product Expiry Date:5 Mar, 2022\n",
      "Enter Product Quantity:56\n",
      "Enter Product id:1109\n",
      "Enter Product Name:Marie\n",
      "Enter Product Category:Biscuits\n",
      "Enter Product Price:20\n",
      "Enter Product Expiry Date:13 Dec, 2021\n",
      "Enter Product Quantity:58\n",
      "Enter Product id:1110\n",
      "Enter Product Name:Pepsi\n",
      "Enter Product Category:Drinks\n",
      "Enter Product Price:25\n",
      "Enter Product Expiry Date:25 Feb, 2022\n",
      "Enter Product Quantity:48\n",
      "Enter Product id:1111\n",
      "Enter Product Name:Coke\n",
      "Enter Product Category:Drinks\n",
      "Enter Product Price:35\n",
      "Enter Product Expiry Date:27 Jan,2022\n",
      "Enter Product Quantity:42\n",
      "Enter Product id:1112\n",
      "Enter Product Name:5 Star\n",
      "Enter Product Category:Chocklets\n",
      "Enter Product Price:5\n",
      "Enter Product Expiry Date:12 Nov, 2021\n",
      "Enter Product Quantity:38\n",
      "Enter Product id:1113\n",
      "Enter Product Name:Bingo\n",
      "Enter Product Category:Snacks\n",
      "Enter Product Price:5\n",
      "Enter Product Expiry Date:17 Feb,2022\n",
      "Enter Product Quantity:57\n",
      "Enter Product id:1114\n",
      "Enter Product Name:Lays\n",
      "Enter Product Category:Snacks\n",
      "Enter Product Price:5\n",
      "Enter Product Expiry Date:28 Dec, 2021\n",
      "Enter Product Quantity:62\n",
      "Enter Product id:1115\n",
      "Enter Product Name:Parle\n",
      "Enter Product Category:Biscuits\n",
      "Enter Product Price:30\n",
      "Enter Product Expiry Date:17 Apr,2022\n",
      "Enter Product Quantity:59\n",
      "Enter Product id:1116\n",
      "Enter Product Name:Thumbs up\n",
      "Enter Product Category:Drinks\n",
      "Enter Product Price:42\n",
      "Enter Product Expiry Date:3 Feb, 2022\n",
      "Enter Product Quantity:35\n",
      "Enter Product id:1117\n",
      "Enter Product Name:Bourbon\n",
      "Enter Product Category:Biscuits\n",
      "Enter Product Price:35\n",
      "Enter Product Expiry Date:28 Dec, 2021\n",
      "Enter Product Quantity:54\n",
      "Enter Product id:1118\n",
      "Enter Product Name:Dukes\n",
      "Enter Product Category:Biscuits\n",
      "Enter Product Price:20\n",
      "Enter Product Expiry Date:14 Nov,2021\n",
      "Enter Product Quantity:25\n",
      "Enter Product id:1119\n",
      "Enter Product Name:Too yum\n",
      "Enter Product Category:Snacks\n",
      "Enter Product Price:20\n",
      "Enter Product Expiry Date:25 Jan,2022\n",
      "Enter Product Quantity:20\n",
      "Enter Product id:1120\n",
      "Enter Product Name:Too yum\n",
      "Enter Product Category:Snacks\n",
      "Enter Product Price:10\n",
      "Enter Product Expiry Date:25 Jan,2022\n",
      "Enter Product Quantity:36\n",
      "Enter Product id:1121\n",
      "Enter Product Name:Kurkure\n",
      "Enter Product Category:Snacks\n",
      "Enter Product Price:10\n",
      "Enter Product Expiry Date:24 Nov,2021\n",
      "Enter Product Quantity:39\n",
      "Enter Product id:1122\n",
      "Enter Product Name:Oreo\n",
      "Enter Product Category:Biscuits\n",
      "Enter Product Price:10\n",
      "Enter Product Expiry Date:25 Jan,2022\n",
      "Enter Product Quantity:52\n",
      "Enter Product id:1123\n",
      "Enter Product Name:Fenta\n",
      "Enter Product Category:Drinks\n",
      "Enter Product Price:36\n",
      "Enter Product Expiry Date:13 Nov,2021\n",
      "Enter Product Quantity:37\n",
      "Enter Product id:1124\n",
      "Enter Product Name:Jim jam\n",
      "Enter Product Category:Biscuits\n",
      "Enter Product Price:10\n",
      "Enter Product Expiry Date:25 Feb,2022\n",
      "Enter Product Quantity:34\n",
      "Enter Product id:1125\n",
      "Enter Product Name:Unibic\n",
      "Enter Product Category:Biscuits\n",
      "Enter Product Price:25\n",
      "Enter Product Expiry Date:2 Feb,2022\n",
      "Enter Product Quantity:51\n",
      "Enter Product id:1126\n",
      "Enter Product Name:Good Day\n",
      "Enter Product Category:Biscuits\n",
      "Enter Product Price:30\n",
      "Enter Product Expiry Date:21 Apr,2022\n",
      "Enter Product Quantity:68\n",
      "Enter Product id:1127\n",
      "Enter Product Name:Sprite\n",
      "Enter Product Category:Drinks\n",
      "Enter Product Price:38\n",
      "Enter Product Expiry Date:19 Feb,2022\n",
      "Enter Product Quantity:53\n",
      "Enter Product id:1128\n",
      "Enter Product Name:Popcorn\n",
      "Enter Product Category:Snacks\n",
      "Enter Product Price:25\n",
      "Enter Product Expiry Date:\"21 May,2022\n",
      "Enter Product Quantity:94\n",
      "Enter Product id:1129\n",
      "Enter Product Name:Diary milk\n",
      "Enter Product Category:Chocklets\n",
      "Enter Product Price:60\n",
      "Enter Product Expiry Date:16 Aug, 2022\n",
      "Enter Product Quantity:105\n",
      "Enter Product id:1130\n",
      "Enter Product Name:Red bull\n",
      "Enter Product Category:Drinks\n",
      "Enter Product Price:35\n",
      "Enter Product Expiry Date:6 Jun, 2022\n",
      "Enter Product Quantity:54\n"
     ]
    }
   ],
   "source": [
    "for i in range(25):\n",
    "    u_id= input(\"Enter Product id:\")\n",
    "    name=input(\"Enter Product Name:\")\n",
    "    cat=input(\"Enter Product Category:\")\n",
    "    pr=int(input(\"Enter Product Price:\"))\n",
    "    ex=input(\"Enter Product Expiry Date:\")\n",
    "    qn=int(input(\"Enter Product Quantity:\"))\n",
    "    products[u_id]={\"name\":name,\"category\":cat,\"price\":pr,\"Expdate\":ex,\"Quantity\":qn}\n",
    "    js = json.dumps(products)\n",
    "    fd = open(\"products.json\",'w')\n",
    "    fd.write(js)\n",
    "    fd.close()\n"
   ]
  },
  {
   "cell_type": "code",
   "execution_count": 19,
   "metadata": {},
   "outputs": [
    {
     "data": {
      "text/plain": [
       "{'1101': {'name': '5 Star',\n",
       "  'category': 'Chocklets ',\n",
       "  'price': 10,\n",
       "  'ExpDate': '12 Nov,2021',\n",
       "  'Quantity': 85},\n",
       " '1102': {'name': 'Lays',\n",
       "  'category': 'Snacks ',\n",
       "  'price': 10,\n",
       "  'ExpDate': '5 Oct,2021',\n",
       "  'Quantity': 54},\n",
       " '1103': {'name': 'Oreo',\n",
       "  'category': 'Biscuits',\n",
       "  'price': 25,\n",
       "  'ExpDate': '23 Dec,2021',\n",
       "  'Quantity': 36},\n",
       " '1104': {'name': 'Dairy Milk',\n",
       "  'category': 'Chocklets',\n",
       "  'price': 10,\n",
       "  'ExpDate': '7 Feb,2022',\n",
       "  'Quantity': 102},\n",
       " '1105': {'name': 'Snickers',\n",
       "  'category': 'Chocklets',\n",
       "  'price': 30,\n",
       "  'Expdate': '4 Jan,2022',\n",
       "  'Quantity': 35},\n",
       " '1106': {'name': 'Kit kat',\n",
       "  'category': 'Chocklets',\n",
       "  'price': 10,\n",
       "  'Expdate': '5 Feb, 2022',\n",
       "  'Quantity': 62},\n",
       " '1107': {'name': '7 up',\n",
       "  'category': 'Drinks',\n",
       "  'price': 41,\n",
       "  'Expdate': '16 Nov, 2021',\n",
       "  'Quantity': 28},\n",
       " '1108': {'name': 'Kurkure',\n",
       "  'category': 'Snacks',\n",
       "  'price': 10,\n",
       "  'Expdate': '5 Mar, 2022',\n",
       "  'Quantity': 56},\n",
       " '1109': {'name': 'Marie',\n",
       "  'category': 'Biscuits',\n",
       "  'price': 20,\n",
       "  'Expdate': '13 Dec, 2021',\n",
       "  'Quantity': 58},\n",
       " '1110': {'name': 'Pepsi',\n",
       "  'category': 'Drinks',\n",
       "  'price': 25,\n",
       "  'Expdate': '25 Feb, 2022',\n",
       "  'Quantity': 48},\n",
       " '1111': {'name': 'Coke',\n",
       "  'category': 'Drinks',\n",
       "  'price': 35,\n",
       "  'Expdate': '27 Jan,2022',\n",
       "  'Quantity': 42},\n",
       " '1112': {'name': '5 Star',\n",
       "  'category': 'Chocklets',\n",
       "  'price': 5,\n",
       "  'Expdate': '12 Nov, 2021',\n",
       "  'Quantity': 38},\n",
       " '1113': {'name': 'Bingo',\n",
       "  'category': 'Snacks',\n",
       "  'price': 5,\n",
       "  'Expdate': '17 Feb,2022',\n",
       "  'Quantity': 57},\n",
       " '1114': {'name': 'Lays',\n",
       "  'category': 'Snacks',\n",
       "  'price': 5,\n",
       "  'Expdate': '28 Dec, 2021',\n",
       "  'Quantity': 62},\n",
       " '1115': {'name': 'Parle',\n",
       "  'category': 'Biscuits',\n",
       "  'price': 30,\n",
       "  'Expdate': '17 Apr,2022',\n",
       "  'Quantity': 59},\n",
       " '1116': {'name': 'Thumbs up',\n",
       "  'category': 'Drinks',\n",
       "  'price': 42,\n",
       "  'Expdate': '3 Feb, 2022',\n",
       "  'Quantity': 35},\n",
       " '1117': {'name': 'Bourbon',\n",
       "  'category': 'Biscuits',\n",
       "  'price': 35,\n",
       "  'Expdate': '28 Dec, 2021',\n",
       "  'Quantity': 54},\n",
       " '1118': {'name': 'Dukes',\n",
       "  'category': 'Biscuits',\n",
       "  'price': 20,\n",
       "  'Expdate': '14 Nov,2021',\n",
       "  'Quantity': 25},\n",
       " '1119': {'name': 'Too yum',\n",
       "  'category': 'Snacks',\n",
       "  'price': 20,\n",
       "  'Expdate': '25 Jan,2022',\n",
       "  'Quantity': 20},\n",
       " '1120': {'name': 'Too yum',\n",
       "  'category': 'Snacks',\n",
       "  'price': 10,\n",
       "  'Expdate': '25 Jan,2022',\n",
       "  'Quantity': 36},\n",
       " '1121': {'name': 'Kurkure',\n",
       "  'category': 'Snacks',\n",
       "  'price': 10,\n",
       "  'Expdate': '24 Nov,2021',\n",
       "  'Quantity': 39},\n",
       " '1122': {'name': 'Oreo',\n",
       "  'category': 'Biscuits',\n",
       "  'price': 10,\n",
       "  'Expdate': '25 Jan,2022',\n",
       "  'Quantity': 52},\n",
       " '1123': {'name': 'Fenta',\n",
       "  'category': 'Drinks',\n",
       "  'price': 36,\n",
       "  'Expdate': '13 Nov,2021',\n",
       "  'Quantity': 37},\n",
       " '1124': {'name': 'Jim jam',\n",
       "  'category': 'Biscuits',\n",
       "  'price': 10,\n",
       "  'Expdate': '25 Feb,2022',\n",
       "  'Quantity': 34},\n",
       " '1125': {'name': 'Unibic',\n",
       "  'category': 'Biscuits',\n",
       "  'price': 25,\n",
       "  'Expdate': '2 Feb,2022',\n",
       "  'Quantity': 51},\n",
       " '1126': {'name': 'Good Day',\n",
       "  'category': 'Biscuits',\n",
       "  'price': 30,\n",
       "  'Expdate': '21 Apr,2022',\n",
       "  'Quantity': 68},\n",
       " '1127': {'name': 'Sprite',\n",
       "  'category': 'Drinks',\n",
       "  'price': 38,\n",
       "  'Expdate': '19 Feb,2022',\n",
       "  'Quantity': 53},\n",
       " '1128': {'name': 'Popcorn',\n",
       "  'category': 'Snacks',\n",
       "  'price': 25,\n",
       "  'Expdate': '21 May,2022',\n",
       "  'Quantity': 94},\n",
       " '1129': {'name': 'Diary milk',\n",
       "  'category': 'Chocklets',\n",
       "  'price': 60,\n",
       "  'Expdate': '16 Aug, 2022',\n",
       "  'Quantity': 105},\n",
       " '1130': {'name': 'Red bull',\n",
       "  'category': 'Drinks',\n",
       "  'price': 35,\n",
       "  'Expdate': '6 Jun, 2022',\n",
       "  'Quantity': 54}}"
      ]
     },
     "execution_count": 19,
     "metadata": {},
     "output_type": "execute_result"
    }
   ],
   "source": [
    "products"
   ]
  },
  {
   "cell_type": "code",
   "execution_count": 20,
   "metadata": {},
   "outputs": [],
   "source": [
    "js= json.dumps(products)\n",
    "fd = open(\"products.json\",'w')\n",
    "fd.write(js)\n",
    "fd.close()"
   ]
  },
  {
   "cell_type": "code",
   "execution_count": 21,
   "metadata": {},
   "outputs": [
    {
     "data": {
      "text/plain": [
       "'{\"1101\": {\"name\": \"5 Star\", \"category\": \"Chocklets \", \"price\": 10, \"ExpDate\": \"12 Nov,2021\", \"Quantity\": 85}, \"1102\": {\"name\": \"Lays\", \"category\": \"Snacks \", \"price\": 10, \"ExpDate\": \"5 Oct,2021\", \"Quantity\": 54}, \"1103\": {\"name\": \"Oreo\", \"category\": \"Biscuits\", \"price\": 25, \"ExpDate\": \"23 Dec,2021\", \"Quantity\": 36}, \"1104\": {\"name\": \"Dairy Milk\", \"category\": \"Chocklets\", \"price\": 10, \"ExpDate\": \"7 Feb,2022\", \"Quantity\": 102}, \"1105\": {\"name\": \"Snickers\", \"category\": \"Chocklets\", \"price\": 30, \"Expdate\": \"4 Jan,2022\", \"Quantity\": 35}, \"1106\": {\"name\": \"Kit kat\", \"category\": \"Chocklets\", \"price\": 10, \"Expdate\": \"5 Feb, 2022\", \"Quantity\": 62}, \"1107\": {\"name\": \"7 up\", \"category\": \"Drinks\", \"price\": 41, \"Expdate\": \"16 Nov, 2021\", \"Quantity\": 28}, \"1108\": {\"name\": \"Kurkure\", \"category\": \"Snacks\", \"price\": 10, \"Expdate\": \"5 Mar, 2022\", \"Quantity\": 56}, \"1109\": {\"name\": \"Marie\", \"category\": \"Biscuits\", \"price\": 20, \"Expdate\": \"13 Dec, 2021\", \"Quantity\": 58}, \"1110\": {\"name\": \"Pepsi\", \"category\": \"Drinks\", \"price\": 25, \"Expdate\": \"25 Feb, 2022\", \"Quantity\": 48}, \"1111\": {\"name\": \"Coke\", \"category\": \"Drinks\", \"price\": 35, \"Expdate\": \"27 Jan,2022\", \"Quantity\": 42}, \"1112\": {\"name\": \"5 Star\", \"category\": \"Chocklets\", \"price\": 5, \"Expdate\": \"12 Nov, 2021\", \"Quantity\": 38}, \"1113\": {\"name\": \"Bingo\", \"category\": \"Snacks\", \"price\": 5, \"Expdate\": \"17 Feb,2022\", \"Quantity\": 57}, \"1114\": {\"name\": \"Lays\", \"category\": \"Snacks\", \"price\": 5, \"Expdate\": \"28 Dec, 2021\", \"Quantity\": 62}, \"1115\": {\"name\": \"Parle\", \"category\": \"Biscuits\", \"price\": 30, \"Expdate\": \"17 Apr,2022\", \"Quantity\": 59}, \"1116\": {\"name\": \"Thumbs up\", \"category\": \"Drinks\", \"price\": 42, \"Expdate\": \"3 Feb, 2022\", \"Quantity\": 35}, \"1117\": {\"name\": \"Bourbon\", \"category\": \"Biscuits\", \"price\": 35, \"Expdate\": \"28 Dec, 2021\", \"Quantity\": 54}, \"1118\": {\"name\": \"Dukes\", \"category\": \"Biscuits\", \"price\": 20, \"Expdate\": \"14 Nov,2021\", \"Quantity\": 25}, \"1119\": {\"name\": \"Too yum\", \"category\": \"Snacks\", \"price\": 20, \"Expdate\": \"25 Jan,2022\", \"Quantity\": 20}, \"1120\": {\"name\": \"Too yum\", \"category\": \"Snacks\", \"price\": 10, \"Expdate\": \"25 Jan,2022\", \"Quantity\": 36}, \"1121\": {\"name\": \"Kurkure\", \"category\": \"Snacks\", \"price\": 10, \"Expdate\": \"24 Nov,2021\", \"Quantity\": 39}, \"1122\": {\"name\": \"Oreo\", \"category\": \"Biscuits\", \"price\": 10, \"Expdate\": \"25 Jan,2022\", \"Quantity\": 52}, \"1123\": {\"name\": \"Fenta\", \"category\": \"Drinks\", \"price\": 36, \"Expdate\": \"13 Nov,2021\", \"Quantity\": 37}, \"1124\": {\"name\": \"Jim jam\", \"category\": \"Biscuits\", \"price\": 10, \"Expdate\": \"25 Feb,2022\", \"Quantity\": 34}, \"1125\": {\"name\": \"Unibic\", \"category\": \"Biscuits\", \"price\": 25, \"Expdate\": \"2 Feb,2022\", \"Quantity\": 51}, \"1126\": {\"name\": \"Good Day\", \"category\": \"Biscuits\", \"price\": 30, \"Expdate\": \"21 Apr,2022\", \"Quantity\": 68}, \"1127\": {\"name\": \"Sprite\", \"category\": \"Drinks\", \"price\": 38, \"Expdate\": \"19 Feb,2022\", \"Quantity\": 53}, \"1128\": {\"name\": \"Popcorn\", \"category\": \"Snacks\", \"price\": 25, \"Expdate\": \"21 May,2022\", \"Quantity\": 94}, \"1129\": {\"name\": \"Diary milk\", \"category\": \"Chocklets\", \"price\": 60, \"Expdate\": \"16 Aug, 2022\", \"Quantity\": 105}, \"1130\": {\"name\": \"Red bull\", \"category\": \"Drinks\", \"price\": 35, \"Expdate\": \"6 Jun, 2022\", \"Quantity\": 54}}'"
      ]
     },
     "execution_count": 21,
     "metadata": {},
     "output_type": "execute_result"
    }
   ],
   "source": [
    "js"
   ]
  },
  {
   "cell_type": "markdown",
   "metadata": {},
   "source": [
    "# Increase the Quantity"
   ]
  },
  {
   "cell_type": "code",
   "execution_count": 22,
   "metadata": {},
   "outputs": [
    {
     "name": "stdout",
     "output_type": "stream",
     "text": [
      "{'name': 'Oreo', 'category': 'Biscuits', 'price': 25, 'ExpDate': '23 Dec,2021', 'Quantity': 36}\n"
     ]
    }
   ],
   "source": [
    "fd=open(\"products.json\",\"r\")\n",
    "r=fd.read()\n",
    "fd.close()\n",
    "products = json.loads(r)\n",
    "print(products[\"1103\"])"
   ]
  },
  {
   "cell_type": "code",
   "execution_count": 29,
   "metadata": {},
   "outputs": [
    {
     "name": "stdout",
     "output_type": "stream",
     "text": [
      "Enter product id:1103\n",
      "Enter product Quantity:2\n",
      "It is new product\n"
     ]
    },
    {
     "ename": "KeyboardInterrupt",
     "evalue": "Interrupted by user",
     "output_type": "error",
     "traceback": [
      "\u001b[1;31m---------------------------------------------------------------------------\u001b[0m",
      "\u001b[1;31mKeyboardInterrupt\u001b[0m                         Traceback (most recent call last)",
      "\u001b[1;32m<ipython-input-29-fc59eb6923be>\u001b[0m in \u001b[0;36m<module>\u001b[1;34m\u001b[0m\n\u001b[0;32m     12\u001b[0m     \u001b[1;32melse\u001b[0m\u001b[1;33m:\u001b[0m\u001b[1;33m\u001b[0m\u001b[1;33m\u001b[0m\u001b[0m\n\u001b[0;32m     13\u001b[0m         \u001b[0mprint\u001b[0m\u001b[1;33m(\u001b[0m\u001b[1;34m\"It is new product\"\u001b[0m\u001b[1;33m)\u001b[0m\u001b[1;33m\u001b[0m\u001b[1;33m\u001b[0m\u001b[0m\n\u001b[1;32m---> 14\u001b[1;33m         \u001b[0mname\u001b[0m\u001b[1;33m=\u001b[0m\u001b[0minput\u001b[0m\u001b[1;33m(\u001b[0m\u001b[1;34m\"Enter Product Name:\"\u001b[0m\u001b[1;33m)\u001b[0m\u001b[1;33m\u001b[0m\u001b[1;33m\u001b[0m\u001b[0m\n\u001b[0m\u001b[0;32m     15\u001b[0m         \u001b[0mcat\u001b[0m\u001b[1;33m=\u001b[0m\u001b[0minput\u001b[0m\u001b[1;33m(\u001b[0m\u001b[1;34m\"Enter Product Category:\"\u001b[0m\u001b[1;33m)\u001b[0m\u001b[1;33m\u001b[0m\u001b[1;33m\u001b[0m\u001b[0m\n\u001b[0;32m     16\u001b[0m         \u001b[0mpr\u001b[0m\u001b[1;33m=\u001b[0m\u001b[0mint\u001b[0m\u001b[1;33m(\u001b[0m\u001b[0minput\u001b[0m\u001b[1;33m(\u001b[0m\u001b[1;34m\"Enter Product Price:\"\u001b[0m\u001b[1;33m)\u001b[0m\u001b[1;33m)\u001b[0m\u001b[1;33m\u001b[0m\u001b[1;33m\u001b[0m\u001b[0m\n",
      "\u001b[1;32m~\\anaconda3\\lib\\site-packages\\ipykernel\\kernelbase.py\u001b[0m in \u001b[0;36mraw_input\u001b[1;34m(self, prompt)\u001b[0m\n\u001b[0;32m    858\u001b[0m                 \u001b[1;34m\"raw_input was called, but this frontend does not support input requests.\"\u001b[0m\u001b[1;33m\u001b[0m\u001b[1;33m\u001b[0m\u001b[0m\n\u001b[0;32m    859\u001b[0m             )\n\u001b[1;32m--> 860\u001b[1;33m         return self._input_request(str(prompt),\n\u001b[0m\u001b[0;32m    861\u001b[0m             \u001b[0mself\u001b[0m\u001b[1;33m.\u001b[0m\u001b[0m_parent_ident\u001b[0m\u001b[1;33m,\u001b[0m\u001b[1;33m\u001b[0m\u001b[1;33m\u001b[0m\u001b[0m\n\u001b[0;32m    862\u001b[0m             \u001b[0mself\u001b[0m\u001b[1;33m.\u001b[0m\u001b[0m_parent_header\u001b[0m\u001b[1;33m,\u001b[0m\u001b[1;33m\u001b[0m\u001b[1;33m\u001b[0m\u001b[0m\n",
      "\u001b[1;32m~\\anaconda3\\lib\\site-packages\\ipykernel\\kernelbase.py\u001b[0m in \u001b[0;36m_input_request\u001b[1;34m(self, prompt, ident, parent, password)\u001b[0m\n\u001b[0;32m    902\u001b[0m             \u001b[1;32mexcept\u001b[0m \u001b[0mKeyboardInterrupt\u001b[0m\u001b[1;33m:\u001b[0m\u001b[1;33m\u001b[0m\u001b[1;33m\u001b[0m\u001b[0m\n\u001b[0;32m    903\u001b[0m                 \u001b[1;31m# re-raise KeyboardInterrupt, to truncate traceback\u001b[0m\u001b[1;33m\u001b[0m\u001b[1;33m\u001b[0m\u001b[1;33m\u001b[0m\u001b[0m\n\u001b[1;32m--> 904\u001b[1;33m                 \u001b[1;32mraise\u001b[0m \u001b[0mKeyboardInterrupt\u001b[0m\u001b[1;33m(\u001b[0m\u001b[1;34m\"Interrupted by user\"\u001b[0m\u001b[1;33m)\u001b[0m \u001b[1;32mfrom\u001b[0m \u001b[1;32mNone\u001b[0m\u001b[1;33m\u001b[0m\u001b[1;33m\u001b[0m\u001b[0m\n\u001b[0m\u001b[0;32m    905\u001b[0m             \u001b[1;32mexcept\u001b[0m \u001b[0mException\u001b[0m \u001b[1;32mas\u001b[0m \u001b[0me\u001b[0m\u001b[1;33m:\u001b[0m\u001b[1;33m\u001b[0m\u001b[1;33m\u001b[0m\u001b[0m\n\u001b[0;32m    906\u001b[0m                 \u001b[0mself\u001b[0m\u001b[1;33m.\u001b[0m\u001b[0mlog\u001b[0m\u001b[1;33m.\u001b[0m\u001b[0mwarning\u001b[0m\u001b[1;33m(\u001b[0m\u001b[1;34m\"Invalid Message:\"\u001b[0m\u001b[1;33m,\u001b[0m \u001b[0mexc_info\u001b[0m\u001b[1;33m=\u001b[0m\u001b[1;32mTrue\u001b[0m\u001b[1;33m)\u001b[0m\u001b[1;33m\u001b[0m\u001b[1;33m\u001b[0m\u001b[0m\n",
      "\u001b[1;31mKeyboardInterrupt\u001b[0m: Interrupted by user"
     ]
    }
   ],
   "source": [
    "u_id=input(\"Enter product id:\")\n",
    "qn= int(input(\"Enter product Quantity:\"))\n",
    "a=products.keys()\n",
    "for i in a:\n",
    "   \n",
    "    if(i==u_id):\n",
    "        products[u_id][\"Quantity\"] = int(products[u_id][\"Quantity\"])+qn\n",
    "        js = json.dumps(products)\n",
    "        fd = open(\"products.json\",'w')\n",
    "        fd.write(js)\n",
    "        fd.close()\n",
    "    else:\n",
    "        print(\"It is new product\")\n",
    "        name=input(\"Enter Product Name:\")\n",
    "        cat=input(\"Enter Product Category:\")\n",
    "        pr=int(input(\"Enter Product Price:\"))\n",
    "        ex=input(\"Enter Product Expiry Date:\")\n",
    "        products[u_id]={\"name\":name,\"category\":cat,\"price\":pr,\"Expdate\":ex,\"Quantity\":qn}\n",
    "        js = json.dumps(products)\n",
    "        fd = open(\"products.json\",'w')\n",
    "        fd.write(js)\n",
    "        fd.close()\n",
    "    \n",
    "            "
   ]
  },
  {
   "cell_type": "code",
   "execution_count": 30,
   "metadata": {},
   "outputs": [
    {
     "data": {
      "text/plain": [
       "{'name': 'Oreo',\n",
       " 'category': 'Biscuits',\n",
       " 'price': 25,\n",
       " 'ExpDate': '23 Dec,2021',\n",
       " 'Quantity': 36}"
      ]
     },
     "execution_count": 30,
     "metadata": {},
     "output_type": "execute_result"
    }
   ],
   "source": [
    "products[\"1103\"]"
   ]
  },
  {
   "cell_type": "code",
   "execution_count": 28,
   "metadata": {},
   "outputs": [
    {
     "name": "stdout",
     "output_type": "stream",
     "text": [
      "Enter product id:1103\n",
      "False\n",
      "False\n",
      "True\n",
      "False\n",
      "False\n",
      "False\n",
      "False\n",
      "False\n",
      "False\n",
      "False\n",
      "False\n",
      "False\n",
      "False\n",
      "False\n",
      "False\n",
      "False\n",
      "False\n",
      "False\n",
      "False\n",
      "False\n",
      "False\n",
      "False\n",
      "False\n",
      "False\n",
      "False\n",
      "False\n",
      "False\n",
      "False\n",
      "False\n",
      "False\n"
     ]
    }
   ],
   "source": [
    "u_id=input(\"Enter product id:\")\n",
    "a=products.keys()\n",
    "for i in a:\n",
    "    print(i==u_id)\n",
    "    \n",
    "    "
   ]
  },
  {
   "cell_type": "code",
   "execution_count": null,
   "metadata": {},
   "outputs": [],
   "source": [
    "for i in a:\n",
    "    b.append(int(i))"
   ]
  },
  {
   "cell_type": "code",
   "execution_count": null,
   "metadata": {},
   "outputs": [],
   "source": [
    "b"
   ]
  },
  {
   "cell_type": "code",
   "execution_count": null,
   "metadata": {},
   "outputs": [],
   "source": []
  }
 ],
 "metadata": {
  "kernelspec": {
   "display_name": "Python 3",
   "language": "python",
   "name": "python3"
  },
  "language_info": {
   "codemirror_mode": {
    "name": "ipython",
    "version": 3
   },
   "file_extension": ".py",
   "mimetype": "text/x-python",
   "name": "python",
   "nbconvert_exporter": "python",
   "pygments_lexer": "ipython3",
   "version": "3.8.5"
  }
 },
 "nbformat": 4,
 "nbformat_minor": 4
}
